{
 "cells": [
  {
   "cell_type": "markdown",
   "metadata": {},
   "source": [
    "A função numpy.where é uma versão vetorizada da expressão ternária x if condition else y.\n",
    "Exemplo: Suponhamos que queremos tomar o valor do array x se o seu correspondente em 'cond' seja True, caso contrário será tomado o valor de y:"
   ]
  },
  {
   "cell_type": "code",
   "execution_count": 5,
   "metadata": {},
   "outputs": [
    {
     "data": {
      "text/plain": [
       "array([ 1,  2, 33,  4, 55, 66, 77,  8, 99, 10])"
      ]
     },
     "execution_count": 5,
     "metadata": {},
     "output_type": "execute_result"
    }
   ],
   "source": [
    "import numpy as np\n",
    "x = np.array([1,2,3,4,5,6,7,8,9,10])\n",
    "y = np.array([11,22,33,44,55,66,77,88,99,101])\n",
    "cond = np.array([True,True,False,True,False,False,False,True,False,True])\n",
    "np.where(cond==True, x, y)"
   ]
  },
  {
   "cell_type": "markdown",
   "metadata": {},
   "source": [
    "Suponha que você tivesse uma\n",
    "matriz de dados gerados aleatoriamente e quisesse substituir todos\n",
    "os valores positivos por 2 e todos os valores negativos por –2."
   ]
  },
  {
   "cell_type": "code",
   "execution_count": 7,
   "metadata": {},
   "outputs": [
    {
     "data": {
      "text/plain": [
       "array([[ 2, -2],\n",
       "       [-2,  2],\n",
       "       [ 2,  2],\n",
       "       [-2, -2]])"
      ]
     },
     "execution_count": 7,
     "metadata": {},
     "output_type": "execute_result"
    }
   ],
   "source": [
    "a = np.random.randn(4,2)\n",
    "np.where(a >= 0, 2, -2)"
   ]
  }
 ],
 "metadata": {
  "kernelspec": {
   "display_name": "Python 3",
   "language": "python",
   "name": "python3"
  },
  "language_info": {
   "codemirror_mode": {
    "name": "ipython",
    "version": 3
   },
   "file_extension": ".py",
   "mimetype": "text/x-python",
   "name": "python",
   "nbconvert_exporter": "python",
   "pygments_lexer": "ipython3",
   "version": "3.6.5"
  }
 },
 "nbformat": 4,
 "nbformat_minor": 2
}
