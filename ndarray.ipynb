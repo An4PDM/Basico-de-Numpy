{
 "cells": [
  {
   "cell_type": "markdown",
   "metadata": {},
   "source": [
    "Um dos motivos para Numpy ser tão importante para processamentos numéricos, é o fato de ele ser eficaz em arrays de dados grandes. Seus algoritmos são de 10 a 100 vezes mais rápidos."
   ]
  },
  {
   "cell_type": "markdown",
   "metadata": {},
   "source": [
    "Um ndarray permite operações matemáticas em todos os dados de seu array. \n",
    "obs: Todos os elementos desse array devem ser do mesmo tipo."
   ]
  },
  {
   "cell_type": "code",
   "execution_count": 3,
   "metadata": {},
   "outputs": [
    {
     "data": {
      "text/plain": [
       "2"
      ]
     },
     "execution_count": 3,
     "metadata": {},
     "output_type": "execute_result"
    }
   ],
   "source": [
    "import numpy as np\n",
    "data = np.random.randn(5,10)\n",
    "data\n",
    "data * 2\n",
    "data.shape # tamanho\n",
    "data.dtype # tipo de dado\n",
    "data.ndim # quantas dimensões"
   ]
  },
  {
   "cell_type": "markdown",
   "metadata": {},
   "source": [
    "Para converter dados em array, basta apenas utilizar essa palavra, assim:"
   ]
  },
  {
   "cell_type": "code",
   "execution_count": 15,
   "metadata": {},
   "outputs": [
    {
     "data": {
      "text/plain": [
       "dtype('int64')"
      ]
     },
     "execution_count": 15,
     "metadata": {},
     "output_type": "execute_result"
    }
   ],
   "source": [
    "d = [[1,2,3],[4,5,6]]\n",
    "d = np.array(d)\n",
    "d.ndim\n",
    "d.dtype\n"
   ]
  },
  {
   "cell_type": "markdown",
   "metadata": {},
   "source": [
    "Você pode converter explicitamente ou fazer cast de um array de um\n",
    "dtype para outro usando o método astype de ndarray:"
   ]
  },
  {
   "cell_type": "code",
   "execution_count": 19,
   "metadata": {},
   "outputs": [
    {
     "data": {
      "text/plain": [
       "dtype('float64')"
      ]
     },
     "execution_count": 19,
     "metadata": {},
     "output_type": "execute_result"
    }
   ],
   "source": [
    "a = [1,2,3,4,5]\n",
    "a = np.array(a)\n",
    "a.dtype\n",
    "a2 = a.astype(np.float64)\n",
    "a2.dtype"
   ]
  },
  {
   "cell_type": "markdown",
   "metadata": {},
   "source": [
    "Usar 'astype' SEMPRE cria um novo array, mesmo que o dtype seja o mesmo.\n",
    "Qualquer operação aritmética feita em arrays de mesmo tamanho, faz com que todos sejam alvos da operação.\n",
    "Broadcasting - Operações entre arrays de tamanhos distintos."
   ]
  },
  {
   "cell_type": "code",
   "execution_count": 22,
   "metadata": {},
   "outputs": [
    {
     "data": {
      "text/plain": [
       "array([[2.        , 1.        , 0.66666667],\n",
       "       [0.5       , 0.4       , 0.33333333]])"
      ]
     },
     "execution_count": 22,
     "metadata": {},
     "output_type": "execute_result"
    }
   ],
   "source": [
    "a = np.array([[1,2,3],[4,5,6]])\n",
    "a * a\n",
    "2 / a"
   ]
  }
 ],
 "metadata": {
  "kernelspec": {
   "display_name": "Python 3",
   "language": "python",
   "name": "python3"
  },
  "language_info": {
   "codemirror_mode": {
    "name": "ipython",
    "version": 3
   },
   "file_extension": ".py",
   "mimetype": "text/x-python",
   "name": "python",
   "nbconvert_exporter": "python",
   "pygments_lexer": "ipython3",
   "version": "3.6.5"
  }
 },
 "nbformat": 4,
 "nbformat_minor": 2
}
